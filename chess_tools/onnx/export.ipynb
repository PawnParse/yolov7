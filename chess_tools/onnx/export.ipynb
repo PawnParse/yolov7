{
 "cells": [
  {
   "cell_type": "code",
   "execution_count": 2,
   "metadata": {},
   "outputs": [],
   "source": [
    "import os\n",
    "os.chdir('yolov7')\n"
   ]
  },
  {
   "cell_type": "code",
   "execution_count": 3,
   "metadata": {},
   "outputs": [
    {
     "name": "stdout",
     "output_type": "stream",
     "text": [
      "LICENSE.md   data\thubconf.py\t  runs\t    train_aux.py\n",
      "README.md    deploy\tinference\t  scripts   utils\n",
      "__pycache__  detect.py\tmodels\t\t  test.py   wandb\n",
      "cfg\t     export.py\tpaper\t\t  tools     yolov7-tiny.pt\n",
      "chess_tools  figure\trequirements.txt  train.py  zip_yolo.sh\n"
     ]
    }
   ],
   "source": [
    "!ls"
   ]
  },
  {
   "cell_type": "code",
   "execution_count": 2,
   "metadata": {},
   "outputs": [
    {
     "name": "stdout",
     "output_type": "stream",
     "text": [
      "Collecting onnx==1.15.0\n",
      "  Downloading onnx-1.15.0-cp310-cp310-manylinux_2_17_x86_64.manylinux2014_x86_64.whl.metadata (15 kB)\n",
      "Requirement already satisfied: numpy in /system/conda/miniconda3/envs/cloudspace/lib/python3.10/site-packages (from onnx==1.15.0) (1.26.4)\n",
      "Requirement already satisfied: protobuf>=3.20.2 in /system/conda/miniconda3/envs/cloudspace/lib/python3.10/site-packages (from onnx==1.15.0) (4.21.2)\n",
      "Downloading onnx-1.15.0-cp310-cp310-manylinux_2_17_x86_64.manylinux2014_x86_64.whl (15.7 MB)\n",
      "\u001b[2K   \u001b[90m━━━━━━━━━━━━━━━━━━━━━━━━━━━━━━━━━━━━━━━━\u001b[0m \u001b[32m15.7/15.7 MB\u001b[0m \u001b[31m97.2 MB/s\u001b[0m eta \u001b[36m0:00:00\u001b[0m:00:01\u001b[0m00:01\u001b[0m\n",
      "\u001b[?25hInstalling collected packages: onnx\n",
      "Successfully installed onnx-1.15.0\n",
      "Collecting nvidia-pyindex\n",
      "  Downloading nvidia-pyindex-1.0.9.tar.gz (10 kB)\n",
      "  Preparing metadata (setup.py) ... \u001b[?25ldone\n",
      "\u001b[?25hBuilding wheels for collected packages: nvidia-pyindex\n",
      "  Building wheel for nvidia-pyindex (setup.py) ... \u001b[?25ldone\n",
      "\u001b[?25h  Created wheel for nvidia-pyindex: filename=nvidia_pyindex-1.0.9-py3-none-any.whl size=8419 sha256=fe788d05c94aa7e442b3e8984920dd5725f3167e78ed65b342341fbc6ecd4529\n",
      "  Stored in directory: /home/zeus/.cache/pip/wheels/2c/af/d0/7a12f82cab69f65d51107f48bcd6179e29b9a69a90546332b3\n",
      "Successfully built nvidia-pyindex\n",
      "Installing collected packages: nvidia-pyindex\n",
      "Successfully installed nvidia-pyindex-1.0.9\n",
      "Looking in indexes: https://pypi.org/simple, https://pypi.ngc.nvidia.com\n",
      "Collecting onnx_graphsurgeon\n",
      "  Downloading onnx_graphsurgeon-0.5.2-py2.py3-none-any.whl.metadata (8.1 kB)\n",
      "Requirement already satisfied: numpy in /system/conda/miniconda3/envs/cloudspace/lib/python3.10/site-packages (from onnx_graphsurgeon) (1.26.4)\n",
      "Requirement already satisfied: onnx>=1.14.0 in /system/conda/miniconda3/envs/cloudspace/lib/python3.10/site-packages (from onnx_graphsurgeon) (1.15.0)\n",
      "Requirement already satisfied: protobuf>=3.20.2 in /system/conda/miniconda3/envs/cloudspace/lib/python3.10/site-packages (from onnx>=1.14.0->onnx_graphsurgeon) (4.21.2)\n",
      "Downloading onnx_graphsurgeon-0.5.2-py2.py3-none-any.whl (56 kB)\n",
      "\u001b[2K   \u001b[90m━━━━━━━━━━━━━━━━━━━━━━━━━━━━━━━━━━━━━━━━\u001b[0m \u001b[32m56.4/56.4 kB\u001b[0m \u001b[31m37.9 MB/s\u001b[0m eta \u001b[36m0:00:00\u001b[0m\n",
      "\u001b[?25hInstalling collected packages: onnx_graphsurgeon\n",
      "Successfully installed onnx_graphsurgeon-0.5.2\n"
     ]
    }
   ],
   "source": [
    "!pip install onnx==1.15.0\n",
    "!pip install nvidia-pyindex\n",
    "!pip install onnx_graphsurgeon"
   ]
  },
  {
   "cell_type": "code",
   "execution_count": 10,
   "metadata": {},
   "outputs": [
    {
     "name": "stdout",
     "output_type": "stream",
     "text": [
      ".\t      epoch_024.pt  epoch_124.pt  epoch_224.pt\tepoch_296.pt  init.pt\n",
      "..\t      epoch_049.pt  epoch_149.pt  epoch_249.pt\tepoch_297.pt  last.pt\n",
      "best.pt       epoch_074.pt  epoch_174.pt  epoch_274.pt\tepoch_298.pt\n",
      "epoch_000.pt  epoch_099.pt  epoch_199.pt  epoch_295.pt\tepoch_299.pt\n"
     ]
    }
   ],
   "source": [
    "!ls -av runs/train/yolov7-bbox5-tiny2/weights"
   ]
  },
  {
   "cell_type": "code",
   "execution_count": 11,
   "metadata": {},
   "outputs": [
    {
     "name": "stdout",
     "output_type": "stream",
     "text": [
      "Namespace(weights='./runs/train/yolov7-bbox5-tiny2/weights/best.pt', img_size=[1280, 1280], batch_size=1, dynamic=False, dynamic_batch=False, grid=True, end2end=True, max_wh=1280, topk_all=100, iou_thres=0.5, conf_thres=0.15, device='cpu', simplify=True, include_nms=False, fp16=False, int8=False)\n",
      "YOLOR 🚀 883cb58 torch 2.2.1+cu121 CPU\n",
      "\n",
      "Fusing layers... \n",
      "IDetect.fuse\n",
      "/home/zeus/miniconda3/envs/cloudspace/lib/python3.10/site-packages/torch/functional.py:507: UserWarning: torch.meshgrid: in an upcoming release, it will be required to pass the indexing argument. (Triggered internally at ../aten/src/ATen/native/TensorShape.cpp:3549.)\n",
      "  return _VF.meshgrid(tensors, **kwargs)  # type: ignore[attr-defined]\n",
      "Model Summary: 208 layers, 6007596 parameters, 0 gradients, 13.0 GFLOPS\n",
      "\n",
      "Starting TorchScript export with torch 2.2.1+cu121...\n",
      "/teamspace/studios/this_studio/yolov7/models/yolo.py:150: TracerWarning: Converting a tensor to a Python boolean might cause the trace to be incorrect. We can't record the data flow of Python values, so this value will be treated as a constant in the future. This means that the trace might not generalize to other inputs!\n",
      "  if self.grid[i].shape[2:4] != x[i].shape[2:4]:\n",
      "TorchScript export success, saved as ./runs/train/yolov7-bbox5-tiny2/weights/best.torchscript.pt\n",
      "CoreML export failure: No module named 'coremltools'\n",
      "\n",
      "Starting TorchScript-Lite export with torch 2.2.1+cu121...\n",
      "TorchScript-Lite export success, saved as ./runs/train/yolov7-bbox5-tiny2/weights/best.torchscript.ptl\n",
      "\n",
      "Starting ONNX export with onnx 1.15.0...\n",
      "onnxruntime\n",
      "/home/zeus/miniconda3/envs/cloudspace/lib/python3.10/site-packages/torch/onnx/symbolic_opset9.py:5859: UserWarning: Exporting aten::index operator of advanced indexing in opset 12 is achieved by combination of multiple ONNX operators, including Reshape, Transpose, Concat, and Gather. If indices include negative values, the exported graph will produce incorrect results.\n",
      "  warnings.warn(\n",
      "Simplifier failure: No module named 'onnxsim'\n",
      "ONNX export success, saved as ./runs/train/yolov7-bbox5-tiny2/weights/best.onnx\n",
      "\n",
      "Export complete (10.48s). Visualize with https://github.com/lutzroeder/netron.\n"
     ]
    }
   ],
   "source": [
    "!python export.py --weights ./runs/train/yolov7-bbox5-tiny2/weights/best.pt \\\n",
    "        --grid --end2end --simplify \\\n",
    "        --topk-all 100 --iou-thres 0.5 --conf-thres 0.15 \\\n",
    "        --img-size 1280 1280 --max-wh 1280"
   ]
  }
 ],
 "metadata": {
  "language_info": {
   "name": "python"
  }
 },
 "nbformat": 4,
 "nbformat_minor": 2
}
