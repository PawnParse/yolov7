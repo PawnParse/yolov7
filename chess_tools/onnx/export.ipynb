{
 "cells": [
  {
   "cell_type": "code",
   "execution_count": null,
   "metadata": {},
   "outputs": [],
   "source": [
    "import os\n",
    "os.chdir('../..')"
   ]
  },
  {
   "cell_type": "code",
   "execution_count": null,
   "metadata": {},
   "outputs": [],
   "source": [
    "!pip install onnx==1.15.0\n",
    "!pip install nvidia-pyindex\n",
    "!pip install onnx_graphsurgeon"
   ]
  },
  {
   "cell_type": "code",
   "execution_count": null,
   "metadata": {},
   "outputs": [],
   "source": [
    "!python export.py --weights ./models/bbox-chess3-tiny.pt \\\n",
    "        --grid --end2end --simplify \\\n",
    "        --topk-all 100 --iou-thres 0.5 --conf-thres 0.15 \\\n",
    "        --img-size 1280 1280 --max-wh 1280"
   ]
  }
 ],
 "metadata": {
  "language_info": {
   "name": "python"
  }
 },
 "nbformat": 4,
 "nbformat_minor": 2
}
