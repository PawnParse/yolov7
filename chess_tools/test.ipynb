{
 "cells": [
  {
   "cell_type": "code",
   "execution_count": null,
   "metadata": {},
   "outputs": [],
   "source": [
    "import os\n",
    "os.chdir('..')"
   ]
  },
  {
   "cell_type": "code",
   "execution_count": null,
   "metadata": {},
   "outputs": [
    {
     "name": "stdout",
     "output_type": "stream",
     "text": [
      "Namespace(weights=['models/bbox-chess3-tiny.pt'], data='data/bbox-chess3.yaml', batch_size=32, img_size=1280, conf_thres=0.15, iou_thres=0.5, task='val', device='', single_cls=False, augment=False, verbose=False, save_txt=True, save_hybrid=False, save_conf=False, save_json=False, project='runs/test/chess3', name='bbox-chess3-tiny-test', exist_ok=False, no_trace=False, v5_metric=False)\n",
      "YOLOR 🚀 v0.1-142-g4ac59ce torch 2.2.0+cu121 CPU\n",
      "\n",
      "Fusing layers... \n",
      "IDetect.fuse\n",
      "/home/jan/miniconda3/envs/py39/lib/python3.9/site-packages/torch/functional.py:507: UserWarning: torch.meshgrid: in an upcoming release, it will be required to pass the indexing argument. (Triggered internally at ../aten/src/ATen/native/TensorShape.cpp:3549.)\n",
      "  return _VF.meshgrid(tensors, **kwargs)  # type: ignore[attr-defined]\n",
      "Model Summary: 208 layers, 6007596 parameters, 0 gradients, 13.0 GFLOPS\n",
      " Convert model to Traced-model... \n",
      " traced_script_module saved! \n",
      " model is traced! \n",
      "\n",
      "\u001b[34m\u001b[1mval: \u001b[0mScanning 'data/datasets/bbox-chess3/labels/val.cache' images and labels... \u001b[0m\n",
      "               Class      Images      Labels           P           R      mAP@.5\n",
      "                 all          20         713       0.993       0.993       0.997       0.571\n",
      "Speed: 2066.2/2.3/2068.5 ms inference/NMS/total per 1280x1280 image at batch-size 32\n",
      "Results saved to runs/test/chess3/bbox-chess3-tiny-test5\n",
      "20 labels saved to runs/test/chess3/bbox-chess3-tiny-test5/labels\n"
     ]
    }
   ],
   "source": [
    "!python test.py \\\n",
    "    --weights models/bbox-chess3-tiny.pt \\\n",
    "    --conf 0.15 \\\n",
    "    --iou-thres 0.5 \\\n",
    "    --img-size 1280 \\\n",
    "    --data data/bbox-chess3.yaml \\\n",
    "    --save-txt \\\n",
    "    --project runs/test/chess3 \\\n",
    "    --name bbox-chess3-tiny-test"
   ]
  }
 ],
 "metadata": {
  "language_info": {
   "name": "python"
  }
 },
 "nbformat": 4,
 "nbformat_minor": 2
}
